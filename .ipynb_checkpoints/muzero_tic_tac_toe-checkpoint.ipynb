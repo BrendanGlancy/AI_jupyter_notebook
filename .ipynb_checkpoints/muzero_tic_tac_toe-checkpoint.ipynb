{
 "cells": [
  {
   "cell_type": "code",
   "execution_count": 1,
   "metadata": {},
   "outputs": [
    {
     "name": "stdout",
     "output_type": "stream",
     "text": [
      "Populating the interactive namespace from numpy and matplotlib\n"
     ]
    }
   ],
   "source": [
    "%load_ext autoreload\n",
    "%autoreload 2\n",
    "%pylab inline\n",
    "import tensorflow as tf\n",
    "import numpy as np\n",
    "import gym\n",
    "from tqdm import tqdm, trange\n",
    "import os, sys\n",
    "sys.path.append(os.getcwd())"
   ]
  },
  {
   "cell_type": "code",
   "execution_count": 2,
   "metadata": {},
   "outputs": [],
   "source": [
    "class TicTacToe():\n",
    "    def __init__(self, state=None):\n",
    "        self.reset()\n",
    "        if state is not None:\n",
    "            self.state = state\n",
    "        \n",
    "    def reset(self):\n",
    "        self.done = False\n",
    "        self.state = [0]*11\n",
    "        self.state[-1] = 1\n",
    "        return self.state\n",
    "    \n",
    "    class observation_space():\n",
    "        shape = (11,)\n",
    "\n",
    "    class action_space():\n",
    "        n = 9\n",
    "\n",
    "    def render(self):\n",
    "        # print whose turn it is when we render to look at what\n",
    "        # muzero thinks is a losing game\n",
    "        print(\"turn %d\" % self.state[-1])\n",
    "        print(np.array(self.state[0:9]).reshape(3,3))\n",
    "    \n",
    "    def value(self, s):\n",
    "        ret = 0\n",
    "        for turn in [-1, 1]:\n",
    "            for i in range(3):\n",
    "                if all([x==turn for x in s[3*i:3*i+3]]):\n",
    "                    ret = turn\n",
    "                if all([x==turn for x in [s[i], s[3+i], s[6+i]]]):\n",
    "                    ret = turn\n",
    "                if all([x==turn for x in [s[0], s[4], s[8]]]):\n",
    "                    ret = turn\n",
    "                if all([x==turn for x in [s[2], s[4], s[6]]]):\n",
    "                    ret = turn\n",
    "        # NOTE: this is not the value, the state may be won\n",
    "        return ret*s[-1]\n",
    "\n",
    "    def dynamics(self, s, act):\n",
    "        rew = 0\n",
    "        s = s.copy()\n",
    "        if s[act] != 0 or s[-2] != 0:\n",
    "          # don't move in taken spots or in finished games\n",
    "          rew = -10\n",
    "        else:\n",
    "            s[act] = s[-1]\n",
    "            rew += self.value(s)\n",
    "        if s[-2] != 0:\n",
    "            rew = 0\n",
    "        else:\n",
    "            s[-2] = self.value(s)\n",
    "        s[-1] = -s[-1]\n",
    "        return rew, s\n",
    "\n",
    "    def step(self, act):\n",
    "        rew, self.state = self.dynamics(self.state, act)\n",
    "        if rew != 0:\n",
    "            self.done = True\n",
    "        if np.all(np.array(self.state[0:9]) != 0):\n",
    "            self.done = True\n",
    "        return self.state, rew, self.done, None"
   ]
  },
  {
   "cell_type": "code",
   "execution_count": 3,
   "metadata": {},
   "outputs": [],
   "source": [
    "env = TicTacToe()"
   ]
  },
  {
   "cell_type": "code",
   "execution_count": 4,
   "metadata": {},
   "outputs": [
    {
     "name": "stdout",
     "output_type": "stream",
     "text": [
      "turn 1\n",
      "[[0 0 0]\n",
      " [0 0 0]\n",
      " [0 0 0]]\n"
     ]
    }
   ],
   "source": [
    "env.render()"
   ]
  },
  {
   "cell_type": "code",
   "execution_count": 5,
   "metadata": {},
   "outputs": [
    {
     "name": "stdout",
     "output_type": "stream",
     "text": [
      "(11,) 9\n"
     ]
    }
   ],
   "source": [
    "from muzero.model import MuModel\n",
    "m = MuModel(env.observation_space.shape, env.action_space.n, s_dim=64, K=5, lr=0.001)\n",
    "print(env.observation_space.shape, env.action_space.n)\n",
    "\n",
    "from muzero.game import Game, ReplayBuffer\n",
    "from muzero.mcts import naive_search, mcts_search\n",
    "replay_buffer = ReplayBuffer(50, 128, m.K)\n",
    "rews = []"
   ]
  },
  {
   "cell_type": "code",
   "execution_count": 6,
   "metadata": {},
   "outputs": [],
   "source": [
    "def play_game(env, m):\n",
    "    import random\n",
    "    game = Game(env, discount=0.99)\n",
    "    while not game.terminal():\n",
    "    # TODO: Do we need to limit the depth of the MCTS search?\n",
    "    #policy = naive_search(m, game.observation, T=1)\n",
    "        policy, _ = mcts_search(m, game.observation, 30)\n",
    "        game.act_with_policy(policy)\n",
    "    return game"
   ]
  },
  {
   "cell_type": "code",
   "execution_count": 7,
   "metadata": {},
   "outputs": [
    {
     "name": "stdout",
     "output_type": "stream",
     "text": [
      "6 -10 [2, 3, 4, 6, 8, 3] 161.3199920654297\n",
      "3 -10 [2, 7, 2] 112.41104888916016\n",
      "2 -10 [2, 2] 98.64979553222656\n",
      "4 -10 [7, 0, 6, 6] 87.25556182861328\n",
      "5 -10 [4, 0, 1, 6, 6] 94.87847900390625\n",
      "7 -10 [5, 8, 0, 6, 7, 3, 3] 865.3579711914062\n",
      "5 -10 [8, 2, 0, 4, 0] 229.09860229492188\n",
      "5 1 [4, 5, 6, 3, 2] 162.84274291992188\n",
      "5 -10 [4, 0, 8, 6, 6] 157.4864501953125\n",
      "2 -10 [1, 1] 161.799072265625\n",
      "4 -10 [6, 7, 3, 3] 140.22915649414062\n",
      "2 -10 [6, 6] 146.46046447753906\n",
      "8 -10 [1, 8, 6, 0, 7, 2, 3, 2] 156.47071838378906\n",
      "4 -10 [3, 1, 0, 3] 154.7995147705078\n",
      "6 -10 [7, 6, 0, 3, 5, 5] 456.5722961425781\n",
      "4 -10 [8, 6, 7, 7] 237.15956115722656\n",
      "6 -10 [7, 6, 1, 8, 0, 6] 206.40243530273438\n",
      "2 -10 [7, 7] 70401.796875\n",
      "2 -10 [4, 4] 779.29541015625\n",
      "5 -10 [4, 5, 6, 3, 6] 200.1975555419922\n",
      "4 -10 [5, 8, 0, 5] 176.00682067871094\n",
      "2 -10 [0, 0] 152.3292694091797\n",
      "5 -10 [3, 8, 6, 5, 8] 163.51441955566406\n",
      "3 -10 [0, 6, 6] 130.34869384765625\n",
      "6 -10 [2, 1, 0, 6, 3, 6] 145.0017852783203\n",
      "2 -10 [6, 6] 120.65040588378906\n",
      "2 -10 [6, 6] 117.52820587158203\n",
      "2 -10 [6, 6] 99.56047821044922\n",
      "3 -10 [6, 0, 6] 80.42852020263672\n",
      "5 -10 [6, 0, 5, 4, 6] 68.32371520996094\n"
     ]
    }
   ],
   "source": [
    "from muzero.model import reformat_batch\n",
    "import collections\n",
    "\n",
    "for j in range(30):\n",
    "    for i in range(10):\n",
    "        game = play_game(env, m)\n",
    "        replay_buffer.save_game(game)\n",
    "        rew = sum(game.rewards)\n",
    "        rews.append(rew)\n",
    "    for i in range(10):\n",
    "        m.train_on_batch(replay_buffer.sample_batch())\n",
    "    print(len(game.history), rew, game.history, m.losses[-1][0])"
   ]
  },
  {
   "cell_type": "code",
   "execution_count": 8,
   "metadata": {},
   "outputs": [
    {
     "data": {
      "text/plain": [
       "[<matplotlib.lines.Line2D at 0x7f9166da4ca0>]"
      ]
     },
     "execution_count": 8,
     "metadata": {},
     "output_type": "execute_result"
    },
    {
     "data": {
      "image/png": "[encoded data removed]",
      "text/plain": [
       "<Figure size 432x288 with 1 Axes>"
      ]
     },
     "metadata": {
      "needs_background": "light"
     },
     "output_type": "display_data"
    },
    {
     "data": {
      "image/png": "[encoded data removed]",
      "text/plain": [
       "<Figure size 432x288 with 1 Axes>"
      ]
     },
     "metadata": {
      "needs_background": "light"
     },
     "output_type": "display_data"
    }
   ],
   "source": [
    "plot(rews)\n",
    "figure()\n",
    "plt.yscale('log')\n",
    "plot([x[0] for x in m.losses])\n",
    "plot([x[1] for x in m.losses])\n",
    "plot([x[-3] for x in m.losses])"
   ]
  },
  {
   "cell_type": "code",
   "execution_count": null,
   "metadata": {},
   "outputs": [],
   "source": [
    "def minimax(node):\n",
    "    # for each action, do the step method effectively\n",
    "    if env.value(s) != 0:\n",
    "        return s[-1] * env.value(s)\n",
    "    \n",
    "    if s[-1] == 1:\n",
    "        value = -float('inf')\n",
    "        for a in range(9):\n",
    "            rew, ns = env.dynamics(s, a)\n",
    "            value = max(value, minimax(ns))\n",
    "        if s[-1] == -1:\n",
    "            value = float('inf')\n",
    "            for a in range(9):\n",
    "            rew, ns = env.dynamics(s, a)\n",
    "            if s != ns:\n",
    "                value = min(value, minimax(ns))"
   ]
  },
  {
   "cell_type": "code",
   "execution_count": null,
   "metadata": {},
   "outputs": [],
   "source": [
    "s = env.reset()\n",
    "minimax(s)"
   ]
  }
 ],
 "metadata": {
  "kernelspec": {
   "display_name": "Python 3",
   "language": "python",
   "name": "python3"
  },
  "language_info": {
   "codemirror_mode": {
    "name": "ipython",
    "version": 3
   },
   "file_extension": ".py",
   "mimetype": "text/x-python",
   "name": "python",
   "nbconvert_exporter": "python",
   "pygments_lexer": "ipython3",
   "version": "3.8.3"
  }
 },
 "nbformat": 4,
 "nbformat_minor": 4
}
