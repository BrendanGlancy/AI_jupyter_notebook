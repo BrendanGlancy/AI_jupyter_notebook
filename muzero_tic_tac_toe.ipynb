{
 "cells": [
  {
   "cell_type": "code",
   "execution_count": 2,
   "metadata": {},
   "outputs": [
    {
     "name": "stdout",
     "output_type": "stream",
     "text": [
      "Populating the interactive namespace from numpy and matplotlib\n"
     ]
    }
   ],
   "source": [
    "%load_ext autoreload\n",
    "%autoreload 2\n",
    "%pylab inline\n",
    "import tensorflow as tf\n",
    "import numpy as np\n",
    "import gym\n",
    "from tqdm import tqdm, trange\n",
    "import os, sys\n",
    "sys.path.append(os.getcwd())"
   ]
  },
  {
   "cell_type": "code",
   "execution_count": 3,
   "metadata": {},
   "outputs": [],
   "source": [
    "class TicTacToe():\n",
    "    def __init__(self, state=None):\n",
    "        self.reset()\n",
    "        if state is not None:\n",
    "            self.state = state\n",
    "        \n",
    "    def reset(self):\n",
    "        self.done = False\n",
    "        self.state = [0]*9\n",
    "        self.turn = 1\n",
    "        return self.state\n",
    "    \n",
    "    class observation_space():\n",
    "        shape = (11,)\n",
    "\n",
    "    class action_space():\n",
    "        n = 9\n",
    "\n",
    "    def render(self):\n",
    "        print(self.state)\n",
    "        # print(np.array(self.state[0:9]).reshape(3,3))\n",
    "    \n",
    "    def value(self, s):\n",
    "        ret = 0\n",
    "        for turn in [-1, 1]:\n",
    "            for i in range(3):\n",
    "                if all([x==turn for x in s[3*i:3*i+3]]):\n",
    "                    ret = turn\n",
    "                if all([x==turn for x in [s[i], s[3+i], s[6+i]]]):\n",
    "                    ret = turn\n",
    "                if all([x==turn for x in [s[0], s[4], s[8]]]):\n",
    "                    ret = turn\n",
    "                if all([x==turn for x in [s[2], s[4], s[6]]]):\n",
    "                    ret = turn\n",
    "                # NOTE: this is not the value, the state may be won\n",
    "                return ret*s[-1]\n",
    "\n",
    "\n",
    "    def step(self, act):\n",
    "        rew, self.state = self.dynamics(self.state, act)\n",
    "        if rew != 0:\n",
    "          self.done = True\n",
    "        if np.all(np.array(self.state[0:9]) != 0):\n",
    "          self.done = True\n",
    "        return self.state, rew, self.done, None"
   ]
  },
  {
   "cell_type": "code",
   "execution_count": 4,
   "metadata": {},
   "outputs": [],
   "source": [
    "env = TicTacToe()"
   ]
  },
  {
   "cell_type": "code",
   "execution_count": 5,
   "metadata": {},
   "outputs": [
    {
     "name": "stdout",
     "output_type": "stream",
     "text": [
      "[0, 0, 0, 0, 0, 0, 0, 0, 0]\n"
     ]
    }
   ],
   "source": [
    "env.render()"
   ]
  },
  {
   "cell_type": "code",
   "execution_count": 8,
   "metadata": {},
   "outputs": [
    {
     "name": "stdout",
     "output_type": "stream",
     "text": [
      "(11,) 9\n"
     ]
    }
   ],
   "source": [
    "from muzero.model import MuModel\n",
    "m = MuModel(env.observation_space.shape, env.action_space.n, s_dim=64, K=3, lr=0.001)\n",
    "print(env.observation_space.shape, env.action_space.n)\n",
    "\n",
    "from muzero.game import Game, ReplayBuffer\n",
    "from muzero.mcts import naive_search, mcts_search\n",
    "replay_buffer = ReplayBuffer(50, 128, m.K)\n",
    "rews = []"
   ]
  },
  {
   "cell_type": "code",
   "execution_count": null,
   "metadata": {},
   "outputs": [],
   "source": []
  }
 ],
 "metadata": {
  "kernelspec": {
   "display_name": "Python 3",
   "language": "python",
   "name": "python3"
  },
  "language_info": {
   "codemirror_mode": {
    "name": "ipython",
    "version": 3
   },
   "file_extension": ".py",
   "mimetype": "text/x-python",
   "name": "python",
   "nbconvert_exporter": "python",
   "pygments_lexer": "ipython3",
   "version": "3.8.3"
  }
 },
 "nbformat": 4,
 "nbformat_minor": 4
}
