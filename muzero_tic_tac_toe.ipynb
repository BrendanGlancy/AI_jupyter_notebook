{
 "cells": [
  {
   "cell_type": "code",
   "execution_count": 1,
   "metadata": {},
   "outputs": [
    {
     "name": "stdout",
     "output_type": "stream",
     "text": [
      "Populating the interactive namespace from numpy and matplotlib\n"
     ]
    }
   ],
   "source": [
    "%load_ext autoreload\n",
    "%autoreload 2\n",
    "%pylab inline\n",
    "import tensorflow as tf\n",
    "import numpy as np\n",
    "import gym\n",
    "from tqdm import tqdm, trange\n",
    "import os, sys\n",
    "sys.path.append(os.getcwd())"
   ]
  },
  {
   "cell_type": "code",
   "execution_count": 2,
   "metadata": {},
   "outputs": [],
   "source": [
    "class TicTacToe():\n",
    "    def __init__(self, state=None):\n",
    "        self.reset()\n",
    "        if state is not None:\n",
    "            self.state = state\n",
    "        \n",
    "    def reset(self):\n",
    "        self.done = False\n",
    "        self.state = [0]*11\n",
    "        self.state[-1] = 1\n",
    "        return self.state\n",
    "    \n",
    "    class observation_space():\n",
    "        shape = (11,)\n",
    "\n",
    "    class action_space():\n",
    "        n = 9\n",
    "\n",
    "    def render(self):\n",
    "        # print(self.state)\n",
    "        print(np.array(self.state[0:9]).reshape(3,3))\n",
    "    \n",
    "    def value(self, s):\n",
    "        ret = 0\n",
    "        for turn in [-1, 1]:\n",
    "            for i in range(3):\n",
    "                if all([x==turn for x in s[3*i:3*i+3]]):\n",
    "                    ret = turn\n",
    "                if all([x==turn for x in [s[i], s[3+i], s[6+i]]]):\n",
    "                    ret = turn\n",
    "                if all([x==turn for x in [s[0], s[4], s[8]]]):\n",
    "                    ret = turn\n",
    "                if all([x==turn for x in [s[2], s[4], s[6]]]):\n",
    "                    ret = turn\n",
    "        # NOTE: this is not the value, the state may be won\n",
    "        return ret*s[-1]\n",
    "\n",
    "    def dynamics(self, s, act):\n",
    "        rew = 0\n",
    "        s = s.copy()\n",
    "        if s[act] != 0 or s[-2] != 0:\n",
    "          # don't move in taken spots or in finished games\n",
    "          rew = -10\n",
    "        else:\n",
    "            s[act] = s[-1]\n",
    "            rew += self.value(s)\n",
    "        if s[-2] != 0:\n",
    "            rew = 0\n",
    "        else:\n",
    "            s[-2] = self.value(s)\n",
    "        s[-1] = -s[-1]\n",
    "        return rew, s\n",
    "\n",
    "    def step(self, act):\n",
    "        rew, self.state = self.dynamics(self.state, act)\n",
    "        if rew != 0:\n",
    "            self.done = True\n",
    "        if np.all(np.array(self.state[0:9]) != 0):\n",
    "            self.done = True\n",
    "        return self.state, rew, self.done, None"
   ]
  },
  {
   "cell_type": "code",
   "execution_count": 3,
   "metadata": {},
   "outputs": [],
   "source": [
    "env = TicTacToe()"
   ]
  },
  {
   "cell_type": "code",
   "execution_count": 4,
   "metadata": {},
   "outputs": [
    {
     "name": "stdout",
     "output_type": "stream",
     "text": [
      "[[0 0 0]\n",
      " [0 0 0]\n",
      " [0 0 0]]\n"
     ]
    }
   ],
   "source": [
    "env.render()"
   ]
  },
  {
   "cell_type": "code",
   "execution_count": 5,
   "metadata": {},
   "outputs": [
    {
     "name": "stdout",
     "output_type": "stream",
     "text": [
      "(11,) 9\n"
     ]
    }
   ],
   "source": [
    "from muzero.model import MuModel\n",
    "m = MuModel(env.observation_space.shape, env.action_space.n, s_dim=64, K=5, lr=0.001)\n",
    "print(env.observation_space.shape, env.action_space.n)\n",
    "\n",
    "from muzero.game import Game, ReplayBuffer\n",
    "from muzero.mcts import naive_search, mcts_search\n",
    "replay_buffer = ReplayBuffer(50, 128, m.K)\n",
    "rews = []"
   ]
  },
  {
   "cell_type": "code",
   "execution_count": 6,
   "metadata": {},
   "outputs": [],
   "source": [
    "def play_game(env, m):\n",
    "    import random\n",
    "    game = Game(env, discount=0.99)\n",
    "    while not game.terminal():\n",
    "    # TODO: Do we need to limit the depth of the MCTS search?\n",
    "    #policy = naive_search(m, game.observation, T=1)\n",
    "        policy, _ = mcts_search(m, game.observation, 30)\n",
    "        game.act_with_policy(policy)\n",
    "    return game"
   ]
  },
  {
   "cell_type": "code",
   "execution_count": 7,
   "metadata": {},
   "outputs": [
    {
     "name": "stdout",
     "output_type": "stream",
     "text": [
      "4 -10 [6, 3, 2, 3] 23.26535415649414\n",
      "3 -10 [8, 2, 8] 25.777334213256836\n",
      "3 -10 [8, 2, 2] 2974.60546875\n",
      "2 -10 [2, 2] 70.80996704101562\n",
      "3 -10 [8, 2, 2] 23047.78125\n",
      "3 -10 [8, 2, 2] 134.8306427001953\n",
      "3 -10 [8, 2, 2] 75.52555084228516\n",
      "3 -10 [8, 2, 2] 66.74053192138672\n",
      "2 -10 [2, 2] 56.41873550415039\n",
      "2 -10 [2, 2] 46.13572311401367\n",
      "2 -10 [2, 2] 31.300596237182617\n",
      "2 -10 [2, 2] 22.62919807434082\n",
      "2 -10 [2, 2] 18.126192092895508\n",
      "2 -10 [2, 2] 11.45685863494873\n",
      "2 -10 [2, 2] 9.366260528564453\n",
      "3 -10 [8, 2, 2] 21.920124053955078\n",
      "2 -10 [2, 2] 145.9978790283203\n",
      "2 -10 [2, 2] 106.48115539550781\n",
      "2 -10 [2, 2] 57.680030822753906\n",
      "2 -10 [2, 2] 48.299560546875\n",
      "2 -10 [2, 2] 54.41419219970703\n",
      "2 -10 [2, 2] 131.357421875\n",
      "2 -10 [2, 2] 398.8502197265625\n",
      "3 -10 [5, 2, 2] 124.15632629394531\n",
      "3 -10 [1, 2, 2] 147.28268432617188\n",
      "3 -10 [8, 4, 4] 111.48078918457031\n",
      "2 -10 [2, 2] 172.60926818847656\n",
      "4 -10 [3, 2, 1, 2] 118.068115234375\n",
      "4 -10 [5, 2, 6, 2] 123.5506362915039\n",
      "5 -10 [1, 2, 6, 7, 6] 220.393310546875\n"
     ]
    }
   ],
   "source": [
    "from muzero.model import reformat_batch\n",
    "import collections\n",
    "\n",
    "for j in range(30):\n",
    "    game = play_game(env, m)\n",
    "    replay_buffer.save_game(game)\n",
    "    for i in range(20):\n",
    "        m.train_on_batch(replay_buffer.sample_batch())\n",
    "    rew = sum(game.rewards)\n",
    "    rews.append(rew)\n",
    "    print(len(game.history), rew, game.history, m.losses[-1][0])"
   ]
  },
  {
   "cell_type": "code",
   "execution_count": 8,
   "metadata": {},
   "outputs": [
    {
     "data": {
      "text/plain": [
       "[<matplotlib.lines.Line2D at 0x7facbecaa130>]"
      ]
     },
     "execution_count": 8,
     "metadata": {},
     "output_type": "execute_result"
    },
    {
     "data": {
      "image/png": "[encoded data removed]",
      "text/plain": [
       "<Figure size 432x288 with 1 Axes>"
      ]
     },
     "metadata": {
      "needs_background": "light"
     },
     "output_type": "display_data"
    },
    {
     "data": {
      "image/png": "[encoded data removed]",
      "text/plain": [
       "<Figure size 432x288 with 1 Axes>"
      ]
     },
     "metadata": {
      "needs_background": "light"
     },
     "output_type": "display_data"
    }
   ],
   "source": [
    "plot(rews)\n",
    "figure()\n",
    "plt.yscale('log')\n",
    "plot([x[0] for x in m.losses])\n",
    "plot([x[1] for x in m.losses])\n",
    "plot([x[-3] for x in m.losses])"
   ]
  },
  {
   "cell_type": "code",
   "execution_count": null,
   "metadata": {},
   "outputs": [],
   "source": []
  }
 ],
 "metadata": {
  "kernelspec": {
   "display_name": "Python 3",
   "language": "python",
   "name": "python3"
  },
  "language_info": {
   "codemirror_mode": {
    "name": "ipython",
    "version": 3
   },
   "file_extension": ".py",
   "mimetype": "text/x-python",
   "name": "python",
   "nbconvert_exporter": "python",
   "pygments_lexer": "ipython3",
   "version": "3.8.3"
  }
 },
 "nbformat": 4,
 "nbformat_minor": 4
}
